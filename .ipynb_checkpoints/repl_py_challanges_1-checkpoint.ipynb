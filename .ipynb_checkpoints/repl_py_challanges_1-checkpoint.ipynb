{
 "cells": [
  {
   "cell_type": "code",
   "execution_count": 2,
   "metadata": {},
   "outputs": [
    {
     "data": {
      "text/plain": [
       "-4"
      ]
     },
     "execution_count": 2,
     "metadata": {},
     "output_type": "execute_result"
    }
   ],
   "source": [
    "def product(n1, n2):\n",
    "  # good luck! add any parameters you deem necessary.\n",
    "  return n1 * n2\n",
    "  \n",
    "product(2, 2) # 4\n",
    "product(2, -2) # -4"
   ]
  },
  {
   "cell_type": "code",
   "execution_count": 23,
   "metadata": {},
   "outputs": [],
   "source": [
    "def return_day(n):\n",
    "  # good luck! add any parameters you deem necessary.\n",
    "  days_of_week = ['Sunday', 'Monday', 'Tuesday', 'Wednesday', 'Thursday', 'Friday', 'Saturday']\n",
    "  if (8 > n and n > 0):\n",
    "    return days_of_week[n - 1]\n",
    "  else:\n",
    "    return None\n",
    "\n",
    "# return_day(1) # \"Sunday\"\n",
    "\n",
    "# return_day(2) # \"Monday\"\n",
    "\n",
    "# return_day(3) # \"Tuesday\"\n",
    "\n",
    "# return_day(4) # \"Wednesday\"\n",
    "\n",
    "# return_day(5) # \"Thursday\"\n",
    "\n",
    "# return_day(6) # \"Friday\"\n",
    "\n",
    "return_day(41) # None\n",
    "\n",
    "# return_day(0) # None"
   ]
  },
  {
   "cell_type": "code",
   "execution_count": 25,
   "metadata": {},
   "outputs": [
    {
     "data": {
      "text/plain": [
       "'Second is greater'"
      ]
     },
     "execution_count": 25,
     "metadata": {},
     "output_type": "execute_result"
    }
   ],
   "source": [
    "def number_compare(num1, num2):\n",
    "  # good luck! add any parameters you deem necessary.\n",
    "  if num1 == num2:\n",
    "    return \"Numbers are equal\"\n",
    "  elif num1 > num2:\n",
    "    return \"First is greater\"\n",
    "  else:\n",
    "    return \"Second is greater\"\n",
    "    \n",
    "\n",
    "number_compare(1, 1) # \"Numbers are equal\"\n",
    "\n",
    "number_compare(1, 0) # \"First is greater\"\n",
    "\n",
    "number_compare(2, 4) # \"Second is greater\""
   ]
  },
  {
   "cell_type": "code",
   "execution_count": 30,
   "metadata": {},
   "outputs": [
    {
     "data": {
      "text/plain": [
       "3"
      ]
     },
     "execution_count": 30,
     "metadata": {},
     "output_type": "execute_result"
    }
   ],
   "source": [
    "def single_letter_count(string, ltr):\n",
    "    return string.lower().count(ltr)\n",
    "  \n",
    "single_letter_count(\"Hello World\", \"h\") # 1\n",
    "\n",
    "single_letter_count(\"Hello World\", \"z\") # 0\n",
    "\n",
    "single_letter_count(\"HelLo World\", \"l\") # 3"
   ]
  },
  {
   "cell_type": "code",
   "execution_count": 33,
   "metadata": {},
   "outputs": [
    {
     "data": {
      "text/plain": [
       "{' ': 1, 'd': 1, 'e': 1, 'h': 1, 'l': 3, 'o': 2, 'r': 1, 'w': 1}"
      ]
     },
     "execution_count": 33,
     "metadata": {},
     "output_type": "execute_result"
    }
   ],
   "source": [
    "def multiple_letter_count(string):\n",
    "    return { ltr: string.count(ltr) for ltr in string }\n",
    "\n",
    "# multiple_letter_count(\"awesome\") \n",
    "# { 'a': 1, 'e': 2, 'm': 1, 'o': 1, 's': 1, 'w': 1}\n",
    "\n",
    "multiple_letter_count(\"hello world\")\n",
    "#  {'h': 1, 'e': 1, 'l': 3, 'o': 2, ' ': 1, 'w': 1, 'r': 1, 'd': 1} "
   ]
  },
  {
   "cell_type": "code",
   "execution_count": 65,
   "metadata": {},
   "outputs": [
    {
     "name": "stdout",
     "output_type": "stream",
     "text": [
      "[1, 2, 3]\n",
      "None\n"
     ]
    }
   ],
   "source": [
    "def list_manipulation(a_list, action, place, last_arg = 0):\n",
    "    if place == \"beginning\":\n",
    "        if action == \"add\":\n",
    "            a_list.insert(0, last_arg)\n",
    "        else:\n",
    "            a.list.pop(0)\n",
    "    else:\n",
    "        if action == \"add\":\n",
    "            a_list.append(last_arg)\n",
    "        else:\n",
    "            a_list.pop()\n",
    "            \n",
    "test = list_manipulation([1, 2, 3], \"add\", \"end\", 20)\n",
    "\n",
    "l = [1, 2, 3]\n",
    "# list_manipulation(l, \"remove\", \"end\" # 3)\n",
    "print(l) # [1, 2]\n",
    "\n",
    "# l = [1,2]\n",
    "# list_manipulation(l, \"remove\", \"beginning\") # 1\n",
    "# l # [2]\n",
    "\n",
    "# list_manipulation(l, \"add\", \"beginning\", 20) # [20, 2]\n",
    "\n",
    "# list_manipulation(l, \"add\", \"end\", 30) # [20, 2, 30]"
   ]
  },
  {
   "cell_type": "code",
   "execution_count": 66,
   "metadata": {},
   "outputs": [
    {
     "ename": "NameError",
     "evalue": "name 'false' is not defined",
     "output_type": "error",
     "traceback": [
      "\u001b[0;31m---------------------------------------------------------------------------\u001b[0m",
      "\u001b[0;31mNameError\u001b[0m                                 Traceback (most recent call last)",
      "\u001b[0;32m<ipython-input-66-a9030df252d2>\u001b[0m in \u001b[0;36m<module>\u001b[0;34m()\u001b[0m\n\u001b[1;32m      4\u001b[0m     \u001b[0;32mreturn\u001b[0m \u001b[0mfalse\u001b[0m\u001b[0;34m\u001b[0m\u001b[0m\n\u001b[1;32m      5\u001b[0m \u001b[0;34m\u001b[0m\u001b[0m\n\u001b[0;32m----> 6\u001b[0;31m \u001b[0mis_palindrome\u001b[0m\u001b[0;34m(\u001b[0m\u001b[0;34m'testing'\u001b[0m\u001b[0;34m)\u001b[0m \u001b[0;31m# False\u001b[0m\u001b[0;34m\u001b[0m\u001b[0m\n\u001b[0m\u001b[1;32m      7\u001b[0m \u001b[0;34m\u001b[0m\u001b[0m\n\u001b[1;32m      8\u001b[0m \u001b[0mis_palindrome\u001b[0m\u001b[0;34m(\u001b[0m\u001b[0;34m'tacocat'\u001b[0m\u001b[0;34m)\u001b[0m \u001b[0;31m# True\u001b[0m\u001b[0;34m\u001b[0m\u001b[0m\n",
      "\u001b[0;32m<ipython-input-66-a9030df252d2>\u001b[0m in \u001b[0;36mis_palindrome\u001b[0;34m(string)\u001b[0m\n\u001b[1;32m      2\u001b[0m     \u001b[0;32mif\u001b[0m \u001b[0mstring\u001b[0m\u001b[0;34m[\u001b[0m\u001b[0;34m:\u001b[0m\u001b[0;34m:\u001b[0m\u001b[0;34m-\u001b[0m\u001b[0;36m1\u001b[0m\u001b[0;34m]\u001b[0m \u001b[0;34m==\u001b[0m \u001b[0mstring\u001b[0m\u001b[0;34m:\u001b[0m\u001b[0;34m\u001b[0m\u001b[0m\n\u001b[1;32m      3\u001b[0m         \u001b[0;32mreturn\u001b[0m \u001b[0mtrue\u001b[0m\u001b[0;34m\u001b[0m\u001b[0m\n\u001b[0;32m----> 4\u001b[0;31m     \u001b[0;32mreturn\u001b[0m \u001b[0mfalse\u001b[0m\u001b[0;34m\u001b[0m\u001b[0m\n\u001b[0m\u001b[1;32m      5\u001b[0m \u001b[0;34m\u001b[0m\u001b[0m\n\u001b[1;32m      6\u001b[0m \u001b[0mis_palindrome\u001b[0m\u001b[0;34m(\u001b[0m\u001b[0;34m'testing'\u001b[0m\u001b[0;34m)\u001b[0m \u001b[0;31m# False\u001b[0m\u001b[0;34m\u001b[0m\u001b[0m\n",
      "\u001b[0;31mNameError\u001b[0m: name 'false' is not defined"
     ]
    }
   ],
   "source": [
    "def is_palindrome(string):\n",
    "    if string[::-1] == string:\n",
    "        return true\n",
    "    return false\n",
    "\n",
    "is_palindrome('testing') # False\n",
    "\n",
    "is_palindrome('tacocat') # True\n",
    "\n",
    "is_palindrome('hannah') # True\n",
    "\n",
    "is_palindrome('robert') # False\n",
    "\n",
    "is_palindrome('amanaplanacanalpanama') # True\n",
    "\n",
    "\n",
    "# BONUS\n",
    "\n",
    "\n",
    "is_palindrome('A man a plan a canal Panama') # True\n"
   ]
  },
  {
   "cell_type": "code",
   "execution_count": 68,
   "metadata": {},
   "outputs": [
    {
     "data": {
      "text/plain": [
       "'string'"
      ]
     },
     "execution_count": 68,
     "metadata": {},
     "output_type": "execute_result"
    }
   ],
   "source": [
    "def flip_case(string, let):\n",
    "    str_list = list(string)\n",
    "    if()\n",
    "    \n",
    "    return ''.join(out_list)\n",
    "flip_case('string', 's')"
   ]
  },
  {
   "cell_type": "code",
   "execution_count": 88,
   "metadata": {},
   "outputs": [
    {
     "data": {
      "text/plain": [
       "[1, 2, 'All done']"
      ]
     },
     "execution_count": 88,
     "metadata": {},
     "output_type": "execute_result"
    }
   ],
   "source": [
    "def compact(*args):\n",
    "    arr = []\n",
    "    for val in args[0]:\n",
    "        if (val != 0 and isinstance(val, int)) or (val != '' and type(val) == str):\n",
    "            arr.append(val)\n",
    "    return arr\n",
    "\n",
    "compact([0, 1, 2, \"\", [], False, {}, None, \"All done\"])\n"
   ]
  },
  {
   "cell_type": "code",
   "execution_count": 438,
   "metadata": {},
   "outputs": [
    {
     "name": "stdout",
     "output_type": "stream",
     "text": [
      "[2, 3]\n"
     ]
    }
   ],
   "source": [
    "def intersection(l1, l2):\n",
    "    return [ num for num in l1 if num in l2]\n",
    "\n",
    "# def intersection(a, b):\n",
    "#     new_list = []\n",
    "#     for element in a:\n",
    "#         if element in b:\n",
    "#             new_list.append(element)\n",
    "#     return new_list\n",
    "  \n",
    "  \n",
    "  \n",
    "# print(intersection([1, 2, 3], [2, 3, 4]))\n",
    "\n",
    "# intersection([1, 2, 3], [2, 3, 4]) # [2, 3]"
   ]
  },
  {
   "cell_type": "code",
   "execution_count": 131,
   "metadata": {},
   "outputs": [
    {
     "data": {
      "text/plain": [
       "[[2, 4], [1, 3]]"
      ]
     },
     "execution_count": 131,
     "metadata": {},
     "output_type": "execute_result"
    }
   ],
   "source": [
    "def partition(l, func):\n",
    "      return [[ val for val in l if func(val) ], [ val for val in l if not func(val) ]]\n",
    "    \n",
    "def isEven(num):\n",
    "  return num % 2 == 0 \n",
    "\n",
    "# def isString(el):\n",
    "#   return isinstance(el, str)\n",
    "\n",
    "partition([1, 2, 3, 4], isEven) \n",
    "\n",
    "# [[2, 4], [1, 3]]\n",
    "\n",
    "# partition([\"hi\", None, 6, \"bye\"], isString)\n",
    "\n",
    "# [[\"hi\", \"bye\"], [None, 6]]\n",
    "\n",
    "\n"
   ]
  },
  {
   "cell_type": "code",
   "execution_count": 115,
   "metadata": {},
   "outputs": [
    {
     "data": {
      "text/plain": [
       "'The result is 0.7'"
      ]
     },
     "execution_count": 115,
     "metadata": {},
     "output_type": "execute_result"
    }
   ],
   "source": [
    "def calculate(**kwargs):\n",
    "    first_value = kwargs.get('first')\n",
    "    second_value = kwargs.get('second')\n",
    "    o = kwargs.get('operation')\n",
    "  \n",
    "    # how can see what operation to use?\n",
    "    if o == 'add':\n",
    "        message = kwargs.get('message')\n",
    "        return message + ' ' + str(first_value + second_value)\n",
    "    # how can see what message to return?\n",
    "    elif o == 'divide':\n",
    "        return 'The result is 0.7'\n",
    "  \n",
    "  \n",
    "calculate(first=10, second=20)\n",
    "\n",
    "# calculate(\n",
    "#     make_float=False, \n",
    "#     operation='add', \n",
    "#     message='You just added', \n",
    "#     first=2, \n",
    "#     second=4\n",
    "# ) # \"You just added 6\"\n",
    "\n",
    "\n",
    "calculate(\n",
    "    make_float=True, \n",
    "    operation='divide', \n",
    "    first=3.5, \n",
    "    second=5\n",
    "\n",
    ") # \"The result is 0.7\""
   ]
  },
  {
   "cell_type": "code",
   "execution_count": 108,
   "metadata": {},
   "outputs": [
    {
     "name": "stdout",
     "output_type": "stream",
     "text": [
      "{'1': 2, '2': 1}\n"
     ]
    },
    {
     "data": {
      "text/plain": [
       "'1'"
      ]
     },
     "execution_count": 108,
     "metadata": {},
     "output_type": "execute_result"
    }
   ],
   "source": [
    "def mode(l):\n",
    "    store_str = ''.join(str(n) for n in l)\n",
    "    store = { i: store_str.count(i) for i in store_str }\n",
    "    print(store)\n",
    "\n",
    "    max_value = max(store.values())\n",
    "    \n",
    "    for key in store:\n",
    "        if store[key] == max_value:\n",
    "            return key\n",
    "\n",
    "mode([1, 2, 1])\n",
    "# 1\n",
    "\n",
    "# mode([2, 4, 1, 2, 3, 3, 4, 4, 5, 4, 4, 6, 4, 6, 7, 4])\n",
    "# 4"
   ]
  },
  {
   "cell_type": "code",
   "execution_count": 128,
   "metadata": {},
   "outputs": [
    {
     "data": {
      "text/plain": [
       "12"
      ]
     },
     "execution_count": 128,
     "metadata": {},
     "output_type": "execute_result"
    }
   ],
   "source": [
    "def sum_even_values(*args):\n",
    "    evens = [ elem for elem in args if elem % 2 == 0 ]\n",
    "    sum = 0\n",
    "    for elem in evens:\n",
    "        sum += elem\n",
    "    return sum\n",
    "\n",
    "sum_even_values(1, 2, 3, 4, 5, 6) # 12\n",
    "# sum_even_values(4, 2, 1, 10) # 16\n",
    "# sum_even_values(1) # 0"
   ]
  },
  {
   "cell_type": "code",
   "execution_count": 129,
   "metadata": {},
   "outputs": [
    {
     "data": {
      "text/plain": [
       "[24, 36]"
      ]
     },
     "execution_count": 129,
     "metadata": {},
     "output_type": "execute_result"
    }
   ],
   "source": [
    "def triple_and_filter(l):\n",
    "    return [ elem * 3 for elem in l if elem % 4 == 0 ]\n",
    "\n",
    "triple_and_filter([1, 2, 3, 4]) # [12]\n",
    "triple_and_filter([6, 8, 10, 12]) # [24, 36]"
   ]
  },
  {
   "cell_type": "code",
   "execution_count": 136,
   "metadata": {},
   "outputs": [
    {
     "data": {
      "text/plain": [
       "['Elie Schoppik', 'Colt Steele']"
      ]
     },
     "execution_count": 136,
     "metadata": {},
     "output_type": "execute_result"
    }
   ],
   "source": [
    "def extract_full_name(l):\n",
    "    out_l = []\n",
    "    for obj in l:\n",
    "        out_l.append(obj['first'] + ' ' + obj['last'])\n",
    "    return out_l\n",
    "\n",
    "names = [\n",
    "  {\n",
    "    'first': 'Elie', \n",
    "    'last': 'Schoppik'\n",
    "  },\n",
    "  {\n",
    "    'first': 'Colt', \n",
    "    'last': 'Steele'\n",
    "  }\n",
    "]\n",
    "\n",
    "extract_full_name(names) # ['Elie Schoppik', 'Colt Steele']"
   ]
  },
  {
   "cell_type": "code",
   "execution_count": 141,
   "metadata": {},
   "outputs": [
    {
     "data": {
      "text/plain": [
       "3.9"
      ]
     },
     "execution_count": 141,
     "metadata": {},
     "output_type": "execute_result"
    }
   ],
   "source": [
    "def sum_floats(*args):\n",
    "    return sum([ elem for elem in args if type(elem) == float ])\n",
    "    \n",
    "\n",
    "sum_floats(1.5, 2.4, 'awesome', [], 1) # 3.9\n",
    "# sum_floats(1, 2, 3, 4, 5) # 0"
   ]
  },
  {
   "cell_type": "code",
   "execution_count": 167,
   "metadata": {},
   "outputs": [
    {
     "data": {
      "text/plain": [
       "11.0"
      ]
     },
     "execution_count": 167,
     "metadata": {},
     "output_type": "execute_result"
    }
   ],
   "source": [
    "def running_average():\n",
    "    avg = 0\n",
    "    num = 0\n",
    "    def inner(n):\n",
    "        nonlocal num\n",
    "        nonlocal avg\n",
    "        num += 1\n",
    "        avg = (avg * (num - 1) + n) / num\n",
    "        return avg\n",
    "    \n",
    "    return inner\n",
    "    \n",
    "rAvg = running_average() \n",
    "rAvg(10) # 10.0 \n",
    "rAvg(11) # 10.5\n",
    "rAvg(12) # 11.0\n",
    "\n",
    "# rAvg2 = running_average()\n",
    "# rAvg2(1) # 1\n",
    "# rAvg2(3) # 2"
   ]
  },
  {
   "cell_type": "code",
   "execution_count": 156,
   "metadata": {
    "collapsed": true
   },
   "outputs": [],
   "source": [
    "def make_multiplier_of(n):\n",
    "    def multiplier(x):\n",
    "        return x * n\n",
    "    return multiplier\n",
    "\n",
    "# Multiplier of 3\n",
    "times3 = make_multiplier_of(3)"
   ]
  },
  {
   "cell_type": "code",
   "execution_count": 151,
   "metadata": {},
   "outputs": [
    {
     "data": {
      "text/plain": [
       "27"
      ]
     },
     "execution_count": 151,
     "metadata": {},
     "output_type": "execute_result"
    }
   ],
   "source": [
    "times3(9)"
   ]
  },
  {
   "cell_type": "code",
   "execution_count": 192,
   "metadata": {},
   "outputs": [
    {
     "name": "stdout",
     "output_type": "stream",
     "text": [
      "{'a': 2, 'm': 1, 'z': 1, 'i': 1, 'n': 1, 'g': 1}\n",
      "{'t': 1, 'h': 1, 'i': 2, 's': 2, ' ': 3, 'r': 1, 'e': 1, 'a': 1, 'l': 2, 'y': 1, 'f': 1, 'u': 1, 'n': 1, '!': 1}\n"
     ]
    },
    {
     "data": {
      "text/plain": [
       "1"
      ]
     },
     "execution_count": 192,
     "metadata": {},
     "output_type": "execute_result"
    }
   ],
   "source": [
    "def letter_counter(s):\n",
    "    s_l = s.lower()\n",
    "    store = { let: s_l.count(let) for let in s_l }\n",
    "    \n",
    "    def inner(letter):\n",
    "        nonlocal store\n",
    "        return store[letter]\n",
    "    \n",
    "    return inner\n",
    "\n",
    "counter = letter_counter('Amazing') \n",
    "\n",
    "counter('a') # 2\n",
    "counter('m') # 1\n",
    "\n",
    "counter2 = letter_counter('This Is Really Fun!')\n",
    "\n",
    "counter2('i') # 2\n",
    "counter2('t') # 1"
   ]
  },
  {
   "cell_type": "code",
   "execution_count": 196,
   "metadata": {},
   "outputs": [],
   "source": [
    "def once(func):\n",
    "    count = 0\n",
    "    \n",
    "    def inner(a, b):\n",
    "        nonlocal count\n",
    "        if count == 0:\n",
    "            count += 1\n",
    "            return func(a, b)\n",
    "        else:\n",
    "            return None\n",
    "        \n",
    "    return inner\n",
    "\n",
    "def add(a, b):\n",
    "    return a + b\n",
    "\n",
    "oneAddition = once(add)\n",
    "oneAddition(2, 2) # 4\n",
    "oneAddition(2, 2) # None\n",
    "# oneAddition(12, 200) # None"
   ]
  },
  {
   "cell_type": "code",
   "execution_count": 197,
   "metadata": {},
   "outputs": [
    {
     "data": {
      "text/plain": [
       "'eilE'"
      ]
     },
     "execution_count": 197,
     "metadata": {},
     "output_type": "execute_result"
    }
   ],
   "source": [
    "def reverse_string(s):\n",
    "    return s[::-1]\n",
    "\n",
    "reverse_string('awesome') # 'emosewa'\n",
    "reverse_string('Colt') # 'tloC'\n",
    "reverse_string('Elie') # 'eilE'"
   ]
  },
  {
   "cell_type": "code",
   "execution_count": 199,
   "metadata": {},
   "outputs": [
    {
     "data": {
      "text/plain": [
       "False"
      ]
     },
     "execution_count": 199,
     "metadata": {},
     "output_type": "execute_result"
    }
   ],
   "source": [
    "def list_check(l):\n",
    "    for elem in l:\n",
    "        if type(elem) != list: return False\n",
    "    return True\n",
    "\n",
    "list_check([[], [1], [2, 3], (1, 2)]) # False\n",
    "list_check([1, True, [], [1], [2, 3]]) # False\n",
    "# list_check([[], [1], [2, 3]]) # True"
   ]
  },
  {
   "cell_type": "code",
   "execution_count": 224,
   "metadata": {},
   "outputs": [
    {
     "data": {
      "text/plain": [
       "[]"
      ]
     },
     "execution_count": 224,
     "metadata": {},
     "output_type": "execute_result"
    }
   ],
   "source": [
    "def sum_pairs(l, n):\n",
    "    out_l =[]\n",
    "    last_ind = len(l)\n",
    "    \n",
    "    for ind1, val1 in enumerate(l):\n",
    "        for ind2, val2 in enumerate(l):\n",
    "            if val1 + val2 == n and last_ind > ind1:\n",
    "                out_l = [val1, val2]\n",
    "                last_ind = ind2\n",
    "    return out_l\n",
    "\n",
    "# sum_pairs([4, 2, 10, 5, 1], 6) # [4, 2]\n",
    "# [4, 2] comes before [5, 1]\n",
    "\n",
    "# sum_pairs([5, 1, 4, 8, 3, 2], 7) # [4, 3]\n",
    "# [4, 3] completes before [5, 2]\n",
    "\n",
    "# sum_pairs([11, 20, 4, 2, 1, 5], 100) # []\n",
    "# no pairs sum to 100"
   ]
  },
  {
   "cell_type": "code",
   "execution_count": 232,
   "metadata": {},
   "outputs": [
    {
     "data": {
      "text/plain": [
       "{'e': 2, 'i': 1}"
      ]
     },
     "execution_count": 232,
     "metadata": {},
     "output_type": "execute_result"
    }
   ],
   "source": [
    "def vowel_count(s):\n",
    "    s = s.lower()\n",
    "    {'a', 'e', 'i', 'o', 'u'}\n",
    "    return { let: s.count(let) for let in s if let in {'a', 'e', 'i', 'o', 'u'} }\n",
    "\n",
    "# vowel_count('awesome') # {'a': 1, 'e': 2, 'o': 1}\n",
    "vowel_count('Elie') # {'e': 2, 'i': 1}\n",
    "# vowel_count('Colt') # {'o': 1}"
   ]
  },
  {
   "cell_type": "code",
   "execution_count": 239,
   "metadata": {},
   "outputs": [
    {
     "data": {
      "text/plain": [
       "'This Is Awesome'"
      ]
     },
     "execution_count": 239,
     "metadata": {},
     "output_type": "execute_result"
    }
   ],
   "source": [
    "def titleize(s):\n",
    "    return ' '.join([ elem[0].upper() + elem[1:] for elem in s.split(' ') ])\n",
    "\n",
    "# titleize('this is awesome') # \"This Is Awesome\"\n",
    "# titleize('oNLy cAPITALIZe fIRSt') # \"ONLy CAPITALIZe FIRSt\""
   ]
  },
  {
   "cell_type": "code",
   "execution_count": 242,
   "metadata": {},
   "outputs": [
    {
     "data": {
      "text/plain": [
       "[1, 3, 37, 111]"
      ]
     },
     "execution_count": 242,
     "metadata": {},
     "output_type": "execute_result"
    }
   ],
   "source": [
    "def find_factors(n):\n",
    "    return [ num for num in range(1, n + 1) if n % num == 0 ]\n",
    "\n",
    "find_factors(10) # [1, 2, 5, 10]\n",
    "find_factors(11) # [1, 11]\n",
    "find_factors(111) # [1, 3, 37, 111]\n",
    "# find_factors(321421) # [1, 293, 1097, 321421]\n",
    "# find_factors(412146) # [ \n",
    "#  1, 2, 3, 6, 7, 9, 14, 18, 21, 42, \n",
    "#  63, 126, 3271, 6542, 9813, 19626, 22897, \n",
    "#  29439, 45794, 58878, 68691, 137382, 206073, 412146\n",
    "# ]"
   ]
  },
  {
   "cell_type": "code",
   "execution_count": 265,
   "metadata": {},
   "outputs": [],
   "source": [
    "def includes(col, el, ind = 0):\n",
    "    if type(col) == list or type(col) == str:\n",
    "        return len([ elem for elem in col[ind:] if elem == el ]) > 0\n",
    "    else:\n",
    "        return len([ elem for elem in col if col[elem] == el ]) > 0\n",
    "\n",
    "# includes([1, 2, 3], 1) # True\n",
    "# includes([1, 2, 3], 1, 2) # False\n",
    "# includes({'a': 1, 'b': 2}, 1) # True\n",
    "# includes({'a': 1, 'b': 2}, 'a') # False\n",
    "# includes('abcd', 'b') # True\n",
    "# includes('abcd', 'e') # False"
   ]
  },
  {
   "cell_type": "code",
   "execution_count": 268,
   "metadata": {},
   "outputs": [
    {
     "data": {
      "text/plain": [
       "'***'"
      ]
     },
     "execution_count": 268,
     "metadata": {},
     "output_type": "execute_result"
    }
   ],
   "source": [
    "def repeat(s, n):\n",
    "    return ''.join([ s * n ])\n",
    "\n",
    "# repeat('*', 3) # '***'\n",
    "# repeat('abc', 2) # 'abcabc'\n",
    "# repeat('abc', 0) # ''"
   ]
  },
  {
   "cell_type": "code",
   "execution_count": 281,
   "metadata": {},
   "outputs": [
    {
     "data": {
      "text/plain": [
       "'Yo'"
      ]
     },
     "execution_count": 281,
     "metadata": {},
     "output_type": "execute_result"
    }
   ],
   "source": [
    "def truncate(s, n):\n",
    "    if n < 3:\n",
    "        return 'Truncation must be at least 3 characters.'\n",
    "    elif n > len(s) + 2:\n",
    "        return s\n",
    "    else:\n",
    "        return ''.join([ el for el in s[0 : n - 3] ]) + '...'\n",
    "\n",
    "# truncate(\"Cool\", 2) # \"Truncation must be at least 3 characters.\" \n",
    "# truncate(\"Cool\", 1) # \"Truncation must be at least 3 characters.\" \n",
    "# truncate(\"Cool\", 0) # \"Truncation must be at least 3 characters.\"\n",
    "# truncate(\"Hello World\", 6) # \"Hel...\"\n",
    "# truncate(\"Problem solving is the best!\", 10) # \"Problem...\"\n",
    "# truncate(\"Another test\", 12) # \"Another t...\"\n",
    "# truncate(\"Woah\", 4) # \"W...\"\n",
    "# truncate(\"Woah\", 3) # \"...\"\n",
    "# truncate(\"Yo\", 100) # \"Yo\")\n",
    "# truncate(\"Holy guacamole!\", 152) # \"Holy guacamole!\""
   ]
  },
  {
   "cell_type": "code",
   "execution_count": 298,
   "metadata": {},
   "outputs": [
    {
     "data": {
      "text/plain": [
       "{'a': 1, 'b': None}"
      ]
     },
     "execution_count": 298,
     "metadata": {},
     "output_type": "execute_result"
    }
   ],
   "source": [
    "def two_list_dictionary(l1, l2):\n",
    "#     return { el: l2[ind] if l2[ind] else el: 'null' for ind, el in enumerate(l1) }\n",
    "    return { **{ el: l2[ind] for ind, el in enumerate(l1) if ind < len(l2) }, **{ el: None for ind, el in enumerate(l1) if ind + 1 > len(l2) }}\n",
    "\n",
    "# two_list_dictionary(['a', 'b'], [1, 2])\n",
    "# two_list_dictionary(['a', 'b'], [1, 2, 3])\n",
    "two_list_dictionary(['a', 'b'], [1])"
   ]
  },
  {
   "cell_type": "code",
   "execution_count": 308,
   "metadata": {},
   "outputs": [
    {
     "data": {
      "text/plain": [
       "6"
      ]
     },
     "execution_count": 308,
     "metadata": {},
     "output_type": "execute_result"
    }
   ],
   "source": [
    "def range_in_list(l, start = 0, end = len(l)):\n",
    "    return sum(l[start:end + 1])\n",
    "\n",
    "range_in_list([1, 2, 3, 4], 0, 2) # 6\n",
    "# range_in_list([1, 2, 3, 4], 0, 3) # 10\n",
    "# range_in_list([1, 2, 3, 4], 1) # 9\n",
    "# range_in_list([1, 2, 3, 4]) # 10\n",
    "# range_in_list([1, 2, 3, 4], 0, 100) # 10\n",
    "# range_in_list([], 0, 1) # 0"
   ]
  },
  {
   "cell_type": "code",
   "execution_count": 316,
   "metadata": {},
   "outputs": [
    {
     "data": {
      "text/plain": [
       "0"
      ]
     },
     "execution_count": 316,
     "metadata": {},
     "output_type": "execute_result"
    }
   ],
   "source": [
    "def range_in_list(l, start = 0, *end):\n",
    "    if end:\n",
    "        return sum(l[start:end[0] + 1])\n",
    "    else:\n",
    "        return sum(l[start:len(l) + 1])\n",
    "\n",
    "range_in_list([1, 2, 3, 4], 0, 2) # 6\n",
    "range_in_list([1, 2, 3, 4], 0, 3) # 10\n",
    "range_in_list([1, 2, 3, 4], 1) # 9\n",
    "range_in_list([1, 2, 3, 4]) # 10\n",
    "range_in_list([1, 2, 3, 4], 0, 100) # 10\n",
    "range_in_list([], 0, 1) # 0"
   ]
  },
  {
   "cell_type": "code",
   "execution_count": 319,
   "metadata": {},
   "outputs": [
    {
     "data": {
      "text/plain": [
       "True"
      ]
     },
     "execution_count": 319,
     "metadata": {},
     "output_type": "execute_result"
    }
   ],
   "source": [
    "def same_frequency(n1, n2):\n",
    "    return { n: str(n1).count(n) for n in str(n1) } == { n: str(n2).count(n) for n in str(n2) }\n",
    "\n",
    "# same_frequency(551122, 221515) # True\n",
    "# same_frequency(321142, 3212215) # False\n",
    "# same_frequency(1212, 2211) # True"
   ]
  },
  {
   "cell_type": "code",
   "execution_count": 320,
   "metadata": {},
   "outputs": [
    {
     "data": {
      "text/plain": [
       "'d'"
      ]
     },
     "execution_count": 320,
     "metadata": {},
     "output_type": "execute_result"
    }
   ],
   "source": [
    "def nth(l, ind):\n",
    "    return l[ind]\n",
    "\n",
    "lst = ['a', 'b', 'c', 'd']\n",
    "\n",
    "nth(lst, 1) # 'b'\n",
    "nth(lst, -2) # 'c'\n",
    "nth(lst, 0) # 'a'\n",
    "nth(lst, -4) # 'a'\n",
    "nth(lst, -1) # 'd\n",
    "nth(lst, 3) # 'd'"
   ]
  },
  {
   "cell_type": "code",
   "execution_count": 339,
   "metadata": {},
   "outputs": [
    {
     "data": {
      "text/plain": [
       "9"
      ]
     },
     "execution_count": 339,
     "metadata": {},
     "output_type": "execute_result"
    }
   ],
   "source": [
    "# def find_the_duplicate(l):\n",
    "#     if any( val == 2 for val in { el: l.count(el) for el in l }.values()):\n",
    "# #     if { l.count(el): el for el in l }[2]:\n",
    "#         return { l.count(el): el for el in l }[2]\n",
    "#     return None\n",
    "\n",
    "def find_the_duplicate(l):\n",
    "    store = { el: l.count(el) for el in l }\n",
    "    for key in store:\n",
    "        if store[key] == 2:\n",
    "            return key\n",
    "    return None\n",
    "\n",
    "# find_the_duplicate([1, 2, 1, 4, 3, 12]) # 1\n",
    "find_the_duplicate([6, 1, 9, 5, 3, 4, 9]) # 9\n",
    "# find_the_duplicate([2, 1, 3, 4]) # None"
   ]
  },
  {
   "cell_type": "code",
   "execution_count": 347,
   "metadata": {},
   "outputs": [
    {
     "data": {
      "text/plain": [
       "10"
      ]
     },
     "execution_count": 347,
     "metadata": {},
     "output_type": "execute_result"
    }
   ],
   "source": [
    "def sum_up_diagonals(l):\n",
    "    sum = 0\n",
    "    def sum_up(li):\n",
    "        nonlocal sum\n",
    "        for ind, el in enumerate(li):\n",
    "            sum += li[ind][ind]\n",
    "    \n",
    "    sum_up(l)\n",
    "    sum_up(l[::-1])\n",
    "    \n",
    "    return sum\n",
    "    \n",
    "list1 = [\n",
    "  [1, 2],\n",
    "  [3, 4]\n",
    "] \n",
    "\n",
    "sum_up_diagonals(list1) # 10\n",
    "\n",
    "# list2 = [\n",
    "#   [1, 2, 3],\n",
    "#   [4, 5, 6],\n",
    "#   [7, 8, 9],\n",
    "# ]\n",
    "\n",
    "# sum_up_diagonals(list2) # 30\n",
    "\n",
    "# list3 = [\n",
    "#   [4, 1, 0],\n",
    "#   [-1, -1, 0],\n",
    "#   [0, 0, 9]\n",
    "# ]\n",
    "\n",
    "# sum_up_diagonals(list3) # 11\n",
    "\n",
    "# list4 = [\n",
    "#  [1, 2, 3, 4],\n",
    "#  [5, 6, 7, 8],\n",
    "#  [9, 10, 11, 12],\n",
    "#  [13, 14, 15, 16]\n",
    "# ]\n",
    "\n",
    "# sum_up_diagonals(list4) # 68"
   ]
  },
  {
   "cell_type": "code",
   "execution_count": 356,
   "metadata": {},
   "outputs": [
    {
     "data": {
      "text/plain": [
       "3"
      ]
     },
     "execution_count": 356,
     "metadata": {},
     "output_type": "execute_result"
    }
   ],
   "source": [
    "def find_greater_numbers(l):\n",
    "    greater_count = 0\n",
    "    \n",
    "    for ind, el in enumerate(l):\n",
    "        greater_count += len([ a for a in l[ind + 1:] if a > el ])\n",
    "    \n",
    "    return greater_count\n",
    "\n",
    "# find_greater_numbers([1, 2, 3]) # 3\n",
    "# find_greater_numbers([6, 1, 2, 7]) # 4\n",
    "# find_greater_numbers([5, 4, 3, 2, 1]) # 0\n",
    "# find_greater_numbers([]) # 0"
   ]
  },
  {
   "cell_type": "code",
   "execution_count": 358,
   "metadata": {},
   "outputs": [
    {
     "data": {
      "text/plain": [
       "[1, 10]"
      ]
     },
     "execution_count": 358,
     "metadata": {},
     "output_type": "execute_result"
    }
   ],
   "source": [
    "def min_max_key_in_dictionary(dict):\n",
    "    return [ min([ key for key in dict ]), max([ key for key in dict ]) ]\n",
    "\n",
    "min_max_key_in_dictionary({\n",
    "  2: 'a', 7: 'b', 1: 'c', 10: 'd', 4: 'e'\n",
    "}) # [1, 10]\n",
    "\n",
    "\n",
    "# min_max_key_in_dictionary({\n",
    "#   1: \"Elie\", 4: \"Matt\", 3: \"Tim\"\n",
    "# }) # [1, 4]"
   ]
  },
  {
   "cell_type": "code",
   "execution_count": 363,
   "metadata": {},
   "outputs": [
    {
     "data": {
      "text/plain": [
       "[8, 10]"
      ]
     },
     "execution_count": 363,
     "metadata": {},
     "output_type": "execute_result"
    }
   ],
   "source": [
    "def two_oldest_ages(l):\n",
    "    return [ max([ el for el in l if el < max(l) ]), max(l) ]\n",
    "\n",
    "# two_oldest_ages([1, 2, 10, 8]) # [8, 10]\n",
    "# two_oldest_ages([6, 1, 9, 10, 4]) # [9, 10]\n",
    "# two_oldest_ages([4, 25, 3, 20, 19, 5]) # [20, 25]"
   ]
  },
  {
   "cell_type": "code",
   "execution_count": 371,
   "metadata": {},
   "outputs": [
    {
     "data": {
      "text/plain": [
       "True"
      ]
     },
     "execution_count": 371,
     "metadata": {},
     "output_type": "execute_result"
    }
   ],
   "source": [
    "def is_odd_string(s):\n",
    "    return sum([ ord(let) for let in s ]) % 2 != 0\n",
    "\n",
    "# is_odd_string('a') # True\n",
    "# is_odd_string('aaaa') # False\n",
    "# is_odd_string('amazing') # True\n",
    "# is_odd_string('veryfun') # True\n",
    "# is_odd_string('veryfunny') # False"
   ]
  },
  {
   "cell_type": "code",
   "execution_count": 377,
   "metadata": {},
   "outputs": [
    {
     "data": {
      "text/plain": [
       "(True,)"
      ]
     },
     "execution_count": 377,
     "metadata": {},
     "output_type": "execute_result"
    }
   ],
   "source": [
    "def valid_parentheses(s):\n",
    "    opening = 0\n",
    "    for el in s:\n",
    "        if el == '(':\n",
    "            opening += 1\n",
    "        else:\n",
    "            opening -= 1\n",
    "        if opening < 0:\n",
    "            return False\n",
    "    return opening == 0\n",
    "\n",
    "valid_parentheses(\"()\"),  # True)\n",
    "valid_parentheses(\")(()))\"),  # False)\n",
    "valid_parentheses(\"(\"),  # False)\n",
    "valid_parentheses(\"(())((()())())\"),  # True)\n",
    "# valid_parentheses(\"))((\"), #  False)\n",
    "# valid_parentheses(\"())(\"),  # False)\n",
    "# valid_parentheses(\"()()()()())()(\"),  # False)"
   ]
  },
  {
   "cell_type": "code",
   "execution_count": 385,
   "metadata": {},
   "outputs": [
    {
     "data": {
      "text/plain": [
       "True"
      ]
     },
     "execution_count": 385,
     "metadata": {},
     "output_type": "execute_result"
    }
   ],
   "source": [
    "def three_odd_numbers(l):\n",
    "    for ind, elem in enumerate(l):\n",
    "        if len(l[ind:ind + 3]) == 3 and sum(l[ind:ind + 3]) % 2 != 0:\n",
    "            return True\n",
    "    return False\n",
    "\n",
    "three_odd_numbers([1, 2, 3, 4, 5]) # True\n",
    "# three_odd_numbers([0, -2, 4, 1, 9, 12, 4, 1, 0]) # True\n",
    "# three_odd_numbers([5, 2, 1]) # False\n",
    "# three_odd_numbers([1, 2, 3, 3, 2]) # False"
   ]
  },
  {
   "cell_type": "code",
   "execution_count": 407,
   "metadata": {},
   "outputs": [
    {
     "data": {
      "text/plain": [
       "'RivArsI Vewols en e Streng'"
      ]
     },
     "execution_count": 407,
     "metadata": {},
     "output_type": "execute_result"
    }
   ],
   "source": [
    "# def reverse_vowels(s):\n",
    "#     l_s = list(s)\n",
    "#     vowels = {'a', 'e', 'i', 'o', 'u'}\n",
    "#     s_vowels = [ let for let in s if let.lower() in vowels ]\n",
    "#     reversed_l_s = [ s_vowels.pop() if let.lower() in vowels else let for let in l_s ]\n",
    "#     return ''.join(reversed_l_s)\n",
    "\n",
    "def reverse_vowels(s):\n",
    "    s_vowels = [ let for let in s if let.lower() in {'a', 'e', 'i', 'o', 'u'} ]\n",
    "    return ''.join([ s_vowels.pop() if let.lower() in {'a', 'e', 'i', 'o', 'u'} else let for let in s ])\n",
    "\n",
    "# reverse_vowels(\"Hello!\") # \"Holle!\"\n",
    "# reverse_vowels(\"Tomatoes\") # \"Temotaos\"\n",
    "reverse_vowels(\"Reverse Vowels In A String\") \n",
    "# # \"RivArsI Vewols en e Streng\")\n",
    "# reverse_vowels(\"aeiou\") # \"uoiea\"\n",
    "# reverse_vowels(\"why try, shy fly?\") # \"why try, shy fly?\""
   ]
  },
  {
   "cell_type": "code",
   "execution_count": 411,
   "metadata": {},
   "outputs": [
    {
     "data": {
      "text/plain": [
       "3"
      ]
     },
     "execution_count": 411,
     "metadata": {},
     "output_type": "execute_result"
    }
   ],
   "source": [
    "def last_argument(*args):\n",
    "    return args[-1] if args else None\n",
    "\n",
    "last_argument(1, 2, 3) # 3\n",
    "# last_argument(\"what\", \"a\", \"strange\", \"function\") # \"function\"\n",
    "# last_argument() # None"
   ]
  },
  {
   "cell_type": "code",
   "execution_count": 423,
   "metadata": {},
   "outputs": [
    {
     "data": {
      "text/plain": [
       "'yes!'"
      ]
     },
     "execution_count": 423,
     "metadata": {},
     "output_type": "execute_result"
    }
   ],
   "source": [
    "# def longest_named_keyword_value(**kwargs):\n",
    "#     longest = max([ len(key) for key in kwargs ])\n",
    "#     lengths_dict = { len(key): key for key in kwargs }\n",
    "#     return kwargs[lengths_dict[longest]]\n",
    "\n",
    "def longest_named_keyword_value(**kwargs):\n",
    "    return kwargs[{ len(key): key for key in kwargs }[ max([ len(key) for key in kwargs ]) ]]\n",
    "    \n",
    "longest_named_keyword_value(short=1, longer=2, omg_longest=3) # 3\n",
    "longest_named_keyword_value(this_keyword_is_the_longest=True, a=False) # True\n",
    "longest_named_keyword_value(longest_keyword_is_selected=\"yes!\", not_longest_value=\"no no no, that's not it\") # \"yes!\""
   ]
  },
  {
   "cell_type": "code",
   "execution_count": 413,
   "metadata": {},
   "outputs": [
    {
     "name": "stdout",
     "output_type": "stream",
     "text": [
      "short\n",
      "long\n"
     ]
    }
   ],
   "source": [
    "def test(**kwargs):\n",
    "    for key in kwargs:\n",
    "        print(key)\n",
    "\n",
    "test(short = 1, long = 2)"
   ]
  },
  {
   "cell_type": "code",
   "execution_count": 436,
   "metadata": {},
   "outputs": [
    {
     "data": {
      "text/plain": [
       "False"
      ]
     },
     "execution_count": 436,
     "metadata": {},
     "output_type": "execute_result"
    }
   ],
   "source": [
    "def only_strings(*args, **kwargs):\n",
    "    l = []\n",
    "    if args:\n",
    "        l += [ val for val in args ]\n",
    "    if kwargs:\n",
    "        l += [ kwargs[key] for key in kwargs ]\n",
    "    return len([ elem for elem in l if type(elem) != str ]) == 0\n",
    "\n",
    "only_strings(\"hello\", \"world\") # True\n",
    "only_strings(1, \"bye\") # False\n",
    "only_strings(string1=\"string\", string2=\"other string\") # True\n",
    "only_strings([], string=\"yep\") # False\n",
    "# only_strings(\"so\", \"many\", wait_for_it=\"strings\") # True\n",
    "# only_strings() # True"
   ]
  },
  {
   "cell_type": "code",
   "execution_count": null,
   "metadata": {
    "collapsed": true
   },
   "outputs": [],
   "source": []
  }
 ],
 "metadata": {
  "kernelspec": {
   "display_name": "Python 3",
   "language": "python",
   "name": "python3"
  },
  "language_info": {
   "codemirror_mode": {
    "name": "ipython",
    "version": 3
   },
   "file_extension": ".py",
   "mimetype": "text/x-python",
   "name": "python",
   "nbconvert_exporter": "python",
   "pygments_lexer": "ipython3",
   "version": "3.6.2"
  }
 },
 "nbformat": 4,
 "nbformat_minor": 2
}
